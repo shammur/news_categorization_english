{
 "cells": [
  {
   "cell_type": "code",
   "execution_count": null,
   "metadata": {},
   "outputs": [],
   "source": []
  },
  {
   "cell_type": "code",
   "execution_count": 3,
   "metadata": {},
   "outputs": [
    {
     "name": "stdout",
     "output_type": "stream",
     "text": [
      "True\n",
      "False\n",
      "False\n",
      "False\n"
     ]
    }
   ],
   "source": [
    "try:\n",
    "    # python2\n",
    "    from urlparse import urlparse\n",
    "except:\n",
    "    # python3\n",
    "    from urllib.parse import urlparse\n",
    "\n",
    "a = 'https://www.cwi.nl:80/%7Eguido/Python.html'\n",
    "b = '/Users/firojalam/QCRI/AIDR_system/crisis_vision_api_deployment/crisis_vision_api/logging.cfg'\n",
    "c = 532\n",
    "d = u'dkakasdkjdjakdjadjfalskdjfalk'\n",
    "\n",
    "def uri_validator(x):\n",
    "    try:\n",
    "        result = urlparse(x)\n",
    "        return all([result.scheme, result.netloc, result.path])\n",
    "    except:\n",
    "        return False\n",
    "\n",
    "print(uri_validator(a))\n",
    "print(uri_validator(b))\n",
    "print(uri_validator(c))\n",
    "print(uri_validator(d))"
   ]
  },
  {
   "cell_type": "code",
   "execution_count": 14,
   "metadata": {},
   "outputs": [
    {
     "name": "stdout",
     "output_type": "stream",
     "text": [
      "False\n"
     ]
    }
   ],
   "source": [
    "import os\n",
    "\n",
    "def local_file_validator(file_name):\n",
    "\n",
    "    if (os.path.isfile(file_name)):\n",
    "        return True\n",
    "    else:\n",
    "        return False\n",
    "    \n",
    "b = '/Users/firojalam/QCRI/AIDR_system/crisis_vision_api_deployment/crisis_vision_api/logging.cfg'\n",
    "print(local_file_validator(a))"
   ]
  },
  {
   "cell_type": "code",
   "execution_count": 15,
   "metadata": {},
   "outputs": [
    {
     "data": {
      "text/plain": [
       "True"
      ]
     },
     "execution_count": 15,
     "metadata": {},
     "output_type": "execute_result"
    }
   ],
   "source": [
    "os.path.isfile(b)"
   ]
  },
  {
   "cell_type": "code",
   "execution_count": 13,
   "metadata": {},
   "outputs": [
    {
     "ename": "SyntaxError",
     "evalue": "'return' outside function (<ipython-input-13-2e79576d95bf>, line 2)",
     "output_type": "error",
     "traceback": [
      "\u001b[0;36m  File \u001b[0;32m\"<ipython-input-13-2e79576d95bf>\"\u001b[0;36m, line \u001b[0;32m2\u001b[0m\n\u001b[0;31m    return True\u001b[0m\n\u001b[0m    ^\u001b[0m\n\u001b[0;31mSyntaxError\u001b[0m\u001b[0;31m:\u001b[0m 'return' outside function\n"
     ]
    }
   ],
   "source": [
    "if os.path.isfile(b):\n",
    "    return True\n",
    "else:    \n",
    "    return False"
   ]
  },
  {
   "cell_type": "code",
   "execution_count": null,
   "metadata": {},
   "outputs": [],
   "source": []
  }
 ],
 "metadata": {
  "kernelspec": {
   "display_name": "Python 3",
   "language": "python",
   "name": "python3"
  },
  "language_info": {
   "codemirror_mode": {
    "name": "ipython",
    "version": 3
   },
   "file_extension": ".py",
   "mimetype": "text/x-python",
   "name": "python",
   "nbconvert_exporter": "python",
   "pygments_lexer": "ipython3",
   "version": "3.7.4"
  }
 },
 "nbformat": 4,
 "nbformat_minor": 2
}
