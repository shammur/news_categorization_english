{
 "cells": [
  {
   "cell_type": "code",
   "execution_count": 140,
   "metadata": {},
   "outputs": [],
   "source": [
    "import json\n",
    "import os, sys\n",
    "import sklearn.metrics as metrics\n",
    "from sklearn import preprocessing\n",
    "import pandas as pd\n",
    "from sklearn.metrics import confusion_matrix\n",
    "import re\n",
    "import warnings\n",
    "import datetime\n",
    "import optparse\n",
    "import os, errno\n",
    "import numpy as np\n",
    "import pandas as pd"
   ]
  },
  {
   "cell_type": "code",
   "execution_count": 142,
   "metadata": {},
   "outputs": [
    {
     "name": "stdout",
     "output_type": "stream",
     "text": [
      "29581\n",
      "28495\n",
      "1086\n"
     ]
    }
   ],
   "source": [
    "\n",
    "file_name=\"/Users/firojalam/Others/BLP/Sentiment/data/bangla-sentiment-tweet_task_run.json\"\n",
    "\n",
    "with open(file_name, 'r') as f:\n",
    "    data_dict = json.load(f)\n",
    "print(len(data_dict))\n",
    "\n",
    "\n",
    "for data in data_dict:\n",
    "    annotation_json=data['info']\n"
   ]
  },
  {
   "cell_type": "code",
   "execution_count": null,
   "metadata": {},
   "outputs": [],
   "source": []
  }
 ],
 "metadata": {
  "kernelspec": {
   "display_name": "Python 3",
   "language": "python",
   "name": "python3"
  },
  "language_info": {
   "codemirror_mode": {
    "name": "ipython",
    "version": 3
   },
   "file_extension": ".py",
   "mimetype": "text/x-python",
   "name": "python",
   "nbconvert_exporter": "python",
   "pygments_lexer": "ipython3",
   "version": "3.7.4"
  }
 },
 "nbformat": 4,
 "nbformat_minor": 2
}
